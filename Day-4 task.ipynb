{
 "cells": [
  {
   "cell_type": "code",
   "execution_count": null,
   "id": "0e93d2f4-6e27-4d96-8185-3403e7bf4259",
   "metadata": {},
   "outputs": [],
   "source": [
    "# List data type"
   ]
  },
  {
   "cell_type": "code",
   "execution_count": 3,
   "id": "7d5ffaef-119c-4566-a6da-18033bd86481",
   "metadata": {},
   "outputs": [],
   "source": [
    "students=['teja','suddi','ani','rithu']"
   ]
  },
  {
   "cell_type": "code",
   "execution_count": 5,
   "id": "0ee349e1-57e9-400a-8d27-c5a635550e2b",
   "metadata": {},
   "outputs": [
    {
     "name": "stdout",
     "output_type": "stream",
     "text": [
      "['teja', 'suddi', 'ani', 'rithu']\n"
     ]
    }
   ],
   "source": [
    "print(students)"
   ]
  },
  {
   "cell_type": "code",
   "execution_count": 7,
   "id": "01e03b94-600d-4062-9fe1-d1f3dd60b5bc",
   "metadata": {},
   "outputs": [
    {
     "name": "stdout",
     "output_type": "stream",
     "text": [
      "teja\n"
     ]
    }
   ],
   "source": [
    "print(students[0])"
   ]
  },
  {
   "cell_type": "code",
   "execution_count": 9,
   "id": "2816ff1d-0017-4f6b-97ad-feb6f6f18058",
   "metadata": {},
   "outputs": [
    {
     "name": "stdout",
     "output_type": "stream",
     "text": [
      "Suddi\n"
     ]
    }
   ],
   "source": [
    "print(students[1].title())"
   ]
  },
  {
   "cell_type": "code",
   "execution_count": 11,
   "id": "07fd76b2-afc5-429b-96b9-3ee5fe2ab0ee",
   "metadata": {},
   "outputs": [
    {
     "name": "stdout",
     "output_type": "stream",
     "text": [
      "SUDDI\n"
     ]
    }
   ],
   "source": [
    "print(students[1].upper())"
   ]
  },
  {
   "cell_type": "code",
   "execution_count": 17,
   "id": "fe0be719-3b94-481f-9c69-b7ad19cf7e73",
   "metadata": {},
   "outputs": [],
   "source": [
    "students.append('joshi')"
   ]
  },
  {
   "cell_type": "code",
   "execution_count": 19,
   "id": "f52888a1-d619-4b14-9e88-8346b1b2889e",
   "metadata": {},
   "outputs": [
    {
     "name": "stdout",
     "output_type": "stream",
     "text": [
      "['teja', 'suddi', 'ani', 'rithu', 'joshi']\n"
     ]
    }
   ],
   "source": [
    "print(students)\n"
   ]
  },
  {
   "cell_type": "code",
   "execution_count": 21,
   "id": "dcb6becb-02a3-464b-911f-2799bec8d842",
   "metadata": {},
   "outputs": [],
   "source": [
    "students.insert(2,'pallavi')"
   ]
  },
  {
   "cell_type": "code",
   "execution_count": 23,
   "id": "3f14b589-3b25-4c8e-9f2e-ad67a301c386",
   "metadata": {},
   "outputs": [
    {
     "name": "stdout",
     "output_type": "stream",
     "text": [
      "['teja', 'suddi', 'pallavi', 'ani', 'rithu', 'joshi']\n"
     ]
    }
   ],
   "source": [
    "print(students)"
   ]
  },
  {
   "cell_type": "code",
   "execution_count": 27,
   "id": "7a09d489-3b22-4c60-9b4e-d41441479646",
   "metadata": {},
   "outputs": [],
   "source": [
    "students[2]='sree'"
   ]
  },
  {
   "cell_type": "code",
   "execution_count": 29,
   "id": "58d5aec1-81bb-4e8b-bc44-e7647ab1ef3b",
   "metadata": {},
   "outputs": [
    {
     "name": "stdout",
     "output_type": "stream",
     "text": [
      "['teja', 'suddi', 'sree', 'ani', 'rithu', 'joshi']\n"
     ]
    }
   ],
   "source": [
    "print(students)\n"
   ]
  },
  {
   "cell_type": "code",
   "execution_count": 39,
   "id": "1bf5dec5-ed62-4ee8-8e39-1f377ad40650",
   "metadata": {},
   "outputs": [],
   "source": [
    "del students[2]"
   ]
  },
  {
   "cell_type": "code",
   "execution_count": 41,
   "id": "d6e351f1-8176-489c-af81-b1067c5403cc",
   "metadata": {},
   "outputs": [
    {
     "name": "stdout",
     "output_type": "stream",
     "text": [
      "['teja', 'suddi', 'ani', 'rithu', 'joshi']\n"
     ]
    }
   ],
   "source": [
    "print(students)"
   ]
  },
  {
   "cell_type": "code",
   "execution_count": 43,
   "id": "7861d06b-d2ac-4fc0-be0d-0d92f2a42154",
   "metadata": {},
   "outputs": [],
   "source": [
    "x=students.pop()#last element will be temporarily deleted"
   ]
  },
  {
   "cell_type": "code",
   "execution_count": 45,
   "id": "9b88b35f-d409-4e3b-acd6-6848f064710f",
   "metadata": {},
   "outputs": [
    {
     "name": "stdout",
     "output_type": "stream",
     "text": [
      "['teja', 'suddi', 'ani', 'rithu']\n"
     ]
    }
   ],
   "source": [
    "print(students)"
   ]
  },
  {
   "cell_type": "code",
   "execution_count": 47,
   "id": "fe81c226-ccbf-4008-bd16-4b0f0331e2f2",
   "metadata": {},
   "outputs": [
    {
     "name": "stdout",
     "output_type": "stream",
     "text": [
      "joshi\n"
     ]
    }
   ],
   "source": [
    "print(x)"
   ]
  },
  {
   "cell_type": "code",
   "execution_count": 49,
   "id": "9b09e324-6a54-482b-8fb4-a8395318a402",
   "metadata": {},
   "outputs": [],
   "source": [
    "a=students.pop(0)#particular element willbe deleted"
   ]
  },
  {
   "cell_type": "code",
   "execution_count": 51,
   "id": "61b0fef8-16c0-4cf5-b894-9507acacc66c",
   "metadata": {},
   "outputs": [
    {
     "name": "stdout",
     "output_type": "stream",
     "text": [
      "['suddi', 'ani', 'rithu']\n"
     ]
    }
   ],
   "source": [
    "print(students)"
   ]
  },
  {
   "cell_type": "code",
   "execution_count": 53,
   "id": "59ade848-74d5-4744-8c61-3eb5ad471f5f",
   "metadata": {},
   "outputs": [
    {
     "name": "stdout",
     "output_type": "stream",
     "text": [
      "teja\n"
     ]
    }
   ],
   "source": [
    "print(a)"
   ]
  },
  {
   "cell_type": "code",
   "execution_count": null,
   "id": "e07c68fe-566a-4fcf-82e5-bce564c3ec8a",
   "metadata": {},
   "outputs": [],
   "source": []
  }
 ],
 "metadata": {
  "kernelspec": {
   "display_name": "Python 3 (ipykernel)",
   "language": "python",
   "name": "python3"
  },
  "language_info": {
   "codemirror_mode": {
    "name": "ipython",
    "version": 3
   },
   "file_extension": ".py",
   "mimetype": "text/x-python",
   "name": "python",
   "nbconvert_exporter": "python",
   "pygments_lexer": "ipython3",
   "version": "3.12.4"
  }
 },
 "nbformat": 4,
 "nbformat_minor": 5
}
