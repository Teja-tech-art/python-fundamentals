{
 "cells": [
  {
   "cell_type": "code",
   "execution_count": null,
   "id": "7cf7b003-c270-401c-939d-346b058191c7",
   "metadata": {},
   "outputs": [],
   "source": [
    "# slicing the list"
   ]
  },
  {
   "cell_type": "code",
   "execution_count": 1,
   "id": "8c1a047d-5673-47c6-91f2-012348b40057",
   "metadata": {},
   "outputs": [],
   "source": [
    "student=['teja','rithu','ani','suddi','harsha','manu']"
   ]
  },
  {
   "cell_type": "code",
   "execution_count": 5,
   "id": "18e3953f-00e8-496e-ae1e-d0e7c3c17538",
   "metadata": {},
   "outputs": [
    {
     "name": "stdout",
     "output_type": "stream",
     "text": [
      "['teja', 'rithu', 'ani', 'suddi', 'harsha', 'manu']\n"
     ]
    }
   ],
   "source": [
    "print(student)"
   ]
  },
  {
   "cell_type": "code",
   "execution_count": 11,
   "id": "b63204e3-85b0-4381-af97-f14d618fe240",
   "metadata": {},
   "outputs": [
    {
     "data": {
      "text/plain": [
       "list"
      ]
     },
     "execution_count": 11,
     "metadata": {},
     "output_type": "execute_result"
    }
   ],
   "source": [
    "type(student)"
   ]
  },
  {
   "cell_type": "code",
   "execution_count": null,
   "id": "38b56ec6-0ea0-4199-a0bb-a92958bc3ce7",
   "metadata": {},
   "outputs": [],
   "source": [
    "#req: teja and rithu added in the slice"
   ]
  },
  {
   "cell_type": "code",
   "execution_count": 13,
   "id": "0ad73d47-c182-44db-942b-29150fb1c49a",
   "metadata": {},
   "outputs": [
    {
     "name": "stdout",
     "output_type": "stream",
     "text": [
      "['teja', 'rithu']\n"
     ]
    }
   ],
   "source": [
    "print(student[0:2])"
   ]
  },
  {
   "cell_type": "code",
   "execution_count": null,
   "id": "89416a9e-358c-4026-a39c-0dfdb92d501c",
   "metadata": {},
   "outputs": [],
   "source": [
    "#re: harsh and manu added in the slice"
   ]
  },
  {
   "cell_type": "code",
   "execution_count": 15,
   "id": "9fb1c8ab-8ef5-45ec-af6a-a77bc4128d71",
   "metadata": {},
   "outputs": [
    {
     "name": "stdout",
     "output_type": "stream",
     "text": [
      "['harsha', 'manu']\n"
     ]
    }
   ],
   "source": [
    "print(student[4:6])"
   ]
  },
  {
   "cell_type": "code",
   "execution_count": null,
   "id": "cd7d93e2-20fd-4107-a04b-8fa53f1c82a1",
   "metadata": {},
   "outputs": [],
   "source": [
    "#step count"
   ]
  },
  {
   "cell_type": "code",
   "execution_count": 17,
   "id": "1e2807fb-2782-4832-a3b0-813ba6d569af",
   "metadata": {},
   "outputs": [
    {
     "name": "stdout",
     "output_type": "stream",
     "text": [
      "['teja', 'suddi']\n"
     ]
    }
   ],
   "source": [
    "print(student[0:6:3])"
   ]
  },
  {
   "cell_type": "code",
   "execution_count": 19,
   "id": "aac96591-a831-4a4b-94b0-bdb19b9dfcac",
   "metadata": {},
   "outputs": [
    {
     "name": "stdout",
     "output_type": "stream",
     "text": [
      "['teja', 'rithu', 'ani', 'suddi', 'harsha', 'manu']\n"
     ]
    }
   ],
   "source": [
    "print(student[0:6:1])"
   ]
  },
  {
   "cell_type": "code",
   "execution_count": 21,
   "id": "4d6d07a5-3c13-4cc3-85ac-0809575ba07d",
   "metadata": {},
   "outputs": [
    {
     "name": "stdout",
     "output_type": "stream",
     "text": [
      "['teja', 'ani', 'harsha']\n"
     ]
    }
   ],
   "source": [
    "print(student[0:6:2])"
   ]
  },
  {
   "cell_type": "code",
   "execution_count": null,
   "id": "81a3fbc9-e12c-4f4b-85cd-a66b5c4957fd",
   "metadata": {},
   "outputs": [],
   "source": [
    "#for loop for  msg to sigle person"
   ]
  },
  {
   "cell_type": "code",
   "execution_count": 35,
   "id": "dfa456e2-ac8d-4a04-9ae6-86fa0b903cc5",
   "metadata": {},
   "outputs": [],
   "source": [
    "message =f\"keep it up, {student[0].title()}\""
   ]
  },
  {
   "cell_type": "code",
   "execution_count": 37,
   "id": "9693cb4d-62f3-44df-ba32-ac24dfa04d86",
   "metadata": {},
   "outputs": [
    {
     "name": "stdout",
     "output_type": "stream",
     "text": [
      "keep it up, Teja\n"
     ]
    }
   ],
   "source": [
    "print(message)"
   ]
  },
  {
   "cell_type": "code",
   "execution_count": null,
   "id": "c4e2f42e-7a5c-430c-b955-238cbd5dc199",
   "metadata": {},
   "outputs": [],
   "source": [
    "#for bulk messages; for temporary variable in main variable"
   ]
  },
  {
   "cell_type": "code",
   "execution_count": 43,
   "id": "a437e0f9-b93c-4119-ab24-3ff714356f1d",
   "metadata": {},
   "outputs": [
    {
     "name": "stdout",
     "output_type": "stream",
     "text": [
      "keep it up, teja\n",
      "keep it up, rithu\n",
      "keep it up, ani\n",
      "keep it up, suddi\n",
      "keep it up, harsha\n",
      "keep it up, manu\n"
     ]
    }
   ],
   "source": [
    "for x in student:\n",
    "    print(f\"keep it up, {x}\")"
   ]
  },
  {
   "cell_type": "code",
   "execution_count": 45,
   "id": "cbbcda16-ee33-4796-b725-e07e880b6b85",
   "metadata": {},
   "outputs": [
    {
     "name": "stdout",
     "output_type": "stream",
     "text": [
      "keep it up, teja\n",
      "submit the work, teja\n",
      "\n",
      "keep it up, rithu\n",
      "submit the work, rithu\n",
      "\n",
      "keep it up, ani\n",
      "submit the work, ani\n",
      "\n",
      "keep it up, suddi\n",
      "submit the work, suddi\n",
      "\n",
      "keep it up, harsha\n",
      "submit the work, harsha\n",
      "\n",
      "keep it up, manu\n",
      "submit the work, manu\n",
      "\n"
     ]
    }
   ],
   "source": [
    "for x in student:\n",
    "    print(f\"keep it up, {x}\")\n",
    "    print(f\"submit the work, {x}\\n\")"
   ]
  },
  {
   "cell_type": "code",
   "execution_count": null,
   "id": "b0156348-023e-4f5b-bc01-657f82996b5f",
   "metadata": {},
   "outputs": [],
   "source": []
  }
 ],
 "metadata": {
  "kernelspec": {
   "display_name": "Python 3 (ipykernel)",
   "language": "python",
   "name": "python3"
  },
  "language_info": {
   "codemirror_mode": {
    "name": "ipython",
    "version": 3
   },
   "file_extension": ".py",
   "mimetype": "text/x-python",
   "name": "python",
   "nbconvert_exporter": "python",
   "pygments_lexer": "ipython3",
   "version": "3.12.4"
  }
 },
 "nbformat": 4,
 "nbformat_minor": 5
}
