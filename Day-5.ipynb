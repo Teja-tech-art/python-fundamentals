{
 "cells": [
  {
   "cell_type": "code",
   "execution_count": null,
   "id": "5a9117b2-2c5d-47a0-87c0-c7815429e527",
   "metadata": {},
   "outputs": [],
   "source": [
    "#organising the list data type"
   ]
  },
  {
   "cell_type": "code",
   "execution_count": 1,
   "id": "2f98c83f-eba1-4034-aeea-4d8bb35125f0",
   "metadata": {},
   "outputs": [],
   "source": [
    "cars=['maruthi','bmw','toyoto','suzuki','audi','kia','benz']"
   ]
  },
  {
   "cell_type": "code",
   "execution_count": 3,
   "id": "9114ee39-197c-47ae-9b36-c3538411a7e0",
   "metadata": {},
   "outputs": [
    {
     "name": "stdout",
     "output_type": "stream",
     "text": [
      "['maruthi', 'bmw', 'toyoto', 'suzuki', 'audi', 'kia', 'benz']\n"
     ]
    }
   ],
   "source": [
    "print(cars)"
   ]
  },
  {
   "cell_type": "code",
   "execution_count": null,
   "id": "80ab3913-83e3-45f3-91a7-b874c506fd2c",
   "metadata": {},
   "outputs": [],
   "source": [
    "#Temporary approach"
   ]
  },
  {
   "cell_type": "code",
   "execution_count": 7,
   "id": "5e4da919-8704-4992-b0d8-0bcb348e651d",
   "metadata": {},
   "outputs": [
    {
     "name": "stdout",
     "output_type": "stream",
     "text": [
      "['audi', 'benz', 'bmw', 'kia', 'maruthi', 'suzuki', 'toyoto']\n"
     ]
    }
   ],
   "source": [
    "print(sorted(cars))"
   ]
  },
  {
   "cell_type": "code",
   "execution_count": 9,
   "id": "86fe359c-52bc-456e-ae49-e1f2a299c2c7",
   "metadata": {},
   "outputs": [
    {
     "name": "stdout",
     "output_type": "stream",
     "text": [
      "['maruthi', 'bmw', 'toyoto', 'suzuki', 'audi', 'kia', 'benz']\n"
     ]
    }
   ],
   "source": [
    "print(cars)"
   ]
  },
  {
   "cell_type": "code",
   "execution_count": 11,
   "id": "8cb7ca9f-e254-4332-9688-2a737916d559",
   "metadata": {},
   "outputs": [],
   "source": [
    "cars.sort()#it will print in"
   ]
  },
  {
   "cell_type": "code",
   "execution_count": 13,
   "id": "819c9183-7695-4521-b4c7-04ddbef97fa1",
   "metadata": {},
   "outputs": [
    {
     "name": "stdout",
     "output_type": "stream",
     "text": [
      "['audi', 'benz', 'bmw', 'kia', 'maruthi', 'suzuki', 'toyoto']\n"
     ]
    }
   ],
   "source": [
    "print(cars)"
   ]
  },
  {
   "cell_type": "code",
   "execution_count": 15,
   "id": "6b288f5f-01a9-45af-915d-65f3bb2b2e86",
   "metadata": {},
   "outputs": [],
   "source": [
    "cars.reverse()#it will print in reverse order"
   ]
  },
  {
   "cell_type": "code",
   "execution_count": 17,
   "id": "3ff64b74-bf1f-4c08-a3e1-8a6af3bd0231",
   "metadata": {},
   "outputs": [
    {
     "name": "stdout",
     "output_type": "stream",
     "text": [
      "['toyoto', 'suzuki', 'maruthi', 'kia', 'bmw', 'benz', 'audi']\n"
     ]
    }
   ],
   "source": [
    "print(cars)"
   ]
  },
  {
   "cell_type": "code",
   "execution_count": null,
   "id": "f9b692fc-120a-42ae-bfb8-962da7f19d95",
   "metadata": {},
   "outputs": [],
   "source": []
  }
 ],
 "metadata": {
  "kernelspec": {
   "display_name": "Python 3 (ipykernel)",
   "language": "python",
   "name": "python3"
  },
  "language_info": {
   "codemirror_mode": {
    "name": "ipython",
    "version": 3
   },
   "file_extension": ".py",
   "mimetype": "text/x-python",
   "name": "python",
   "nbconvert_exporter": "python",
   "pygments_lexer": "ipython3",
   "version": "3.12.4"
  }
 },
 "nbformat": 4,
 "nbformat_minor": 5
}
