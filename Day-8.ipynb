{
 "cells": [
  {
   "cell_type": "code",
   "execution_count": null,
   "id": "25bc2d7b-cdaf-4751-abc4-e452868515ac",
   "metadata": {},
   "outputs": [],
   "source": [
    "# tuple data type: It is an immutable list data type .we can access the elemnts but can't modify"
   ]
  },
  {
   "cell_type": "code",
   "execution_count": 5,
   "id": "826a49db-a14d-4805-8e39-6a3ef6620df0",
   "metadata": {},
   "outputs": [],
   "source": [
    "students=('teja','suddi','ani','rithu')"
   ]
  },
  {
   "cell_type": "code",
   "execution_count": 7,
   "id": "f70e2824-5847-47d6-8b3d-e090012ca93e",
   "metadata": {},
   "outputs": [
    {
     "name": "stdout",
     "output_type": "stream",
     "text": [
      "('teja', 'suddi', 'ani', 'rithu')\n"
     ]
    }
   ],
   "source": [
    "print(students)"
   ]
  },
  {
   "cell_type": "code",
   "execution_count": 9,
   "id": "86e3c162-c93c-4436-8e80-64d9c8806777",
   "metadata": {},
   "outputs": [
    {
     "data": {
      "text/plain": [
       "tuple"
      ]
     },
     "execution_count": 9,
     "metadata": {},
     "output_type": "execute_result"
    }
   ],
   "source": [
    "type(students)"
   ]
  },
  {
   "cell_type": "code",
   "execution_count": 11,
   "id": "8f6f43fd-1117-440f-9189-8be62e9ef3dd",
   "metadata": {},
   "outputs": [
    {
     "name": "stdout",
     "output_type": "stream",
     "text": [
      "teja\n"
     ]
    }
   ],
   "source": [
    "print(students[0])"
   ]
  },
  {
   "cell_type": "code",
   "execution_count": null,
   "id": "83f3b73e-7d0a-4790-b812-03657cabe6d4",
   "metadata": {},
   "outputs": [],
   "source": [
    "# we can use this data type for immutable data"
   ]
  },
  {
   "cell_type": "code",
   "execution_count": null,
   "id": "c622022b-c456-46ab-a95f-4c294a6c5530",
   "metadata": {},
   "outputs": [],
   "source": [
    "# we can use tuple data type for loop "
   ]
  },
  {
   "cell_type": "code",
   "execution_count": 15,
   "id": "f7bbeb07-9587-40ef-acd6-56dadd713fd0",
   "metadata": {},
   "outputs": [
    {
     "name": "stdout",
     "output_type": "stream",
     "text": [
      "teja\n",
      "suddi\n",
      "ani\n",
      "rithu\n"
     ]
    }
   ],
   "source": [
    "for a in students:\n",
    "    print(a)"
   ]
  },
  {
   "cell_type": "code",
   "execution_count": null,
   "id": "0c1bbca8-5c7d-4cf4-9416-643ab048a5a8",
   "metadata": {},
   "outputs": [],
   "source": [
    "# Dictionary is a combination of key value pair; it is a mutable data type"
   ]
  },
  {
   "cell_type": "code",
   "execution_count": 17,
   "id": "b16ee2b1-ef06-4849-8eef-3f56c4c876a1",
   "metadata": {},
   "outputs": [],
   "source": [
    "Alien={'color':'red','points':5}"
   ]
  },
  {
   "cell_type": "code",
   "execution_count": 23,
   "id": "44029274-355f-4274-be17-5d18230d0a3c",
   "metadata": {},
   "outputs": [
    {
     "name": "stdout",
     "output_type": "stream",
     "text": [
      "red\n"
     ]
    }
   ],
   "source": [
    "print(Alien['color'])"
   ]
  },
  {
   "cell_type": "code",
   "execution_count": null,
   "id": "c3490f8f-cde4-4ccc-92e3-bf88f805308b",
   "metadata": {},
   "outputs": [],
   "source": [
    "# kegive the key "
   ]
  }
 ],
 "metadata": {
  "kernelspec": {
   "display_name": "Python 3 (ipykernel)",
   "language": "python",
   "name": "python3"
  },
  "language_info": {
   "codemirror_mode": {
    "name": "ipython",
    "version": 3
   },
   "file_extension": ".py",
   "mimetype": "text/x-python",
   "name": "python",
   "nbconvert_exporter": "python",
   "pygments_lexer": "ipython3",
   "version": "3.12.4"
  }
 },
 "nbformat": 4,
 "nbformat_minor": 5
}
